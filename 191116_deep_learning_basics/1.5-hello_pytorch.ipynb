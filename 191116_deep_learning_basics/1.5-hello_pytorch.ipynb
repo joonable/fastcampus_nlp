{
 "cells": [
  {
   "cell_type": "markdown",
   "metadata": {},
   "source": [
    "# MNIST Autoencoder & Classifier"
   ]
  },
  {
   "cell_type": "code",
   "execution_count": 1,
   "metadata": {},
   "outputs": [],
   "source": [
    "import torch\n",
    "import torch.nn as nn\n",
    "from torch.utils.data import TensorDataset, DataLoader"
   ]
  },
  {
   "cell_type": "code",
   "execution_count": 2,
   "metadata": {},
   "outputs": [],
   "source": [
    "import torchvision.datasets as dsets\n",
    "import torchvision.transforms as transforms\n",
    "from torch.utils.data import TensorDataset\n",
    "\n",
    "def load_mnist(transform=transforms.ToTensor()):\n",
    "    # MNIST dataset\n",
    "    train_set = dsets.MNIST(root='data/',\n",
    "                            train=True,\n",
    "                            transform=transform,\n",
    "                            download=True\n",
    "                            )\n",
    "    valid_set = dsets.MNIST(root='data/',\n",
    "                            train=False,\n",
    "                            transform=transform,\n",
    "                            download=True\n",
    "                            )\n",
    "\n",
    "    train_data = train_set.train_data.float() / 255.\n",
    "    train_labels = train_set.train_labels\n",
    "    test_data = valid_set.test_data.float() / 255.\n",
    "    test_labels = valid_set.test_labels\n",
    "    \n",
    "    train_data = train_data.view(len(train_data), -1)\n",
    "    test_data = test_data.view(len(test_data), -1)\n",
    "    \n",
    "    return train_data, train_labels, test_data, test_labels"
   ]
  },
  {
   "cell_type": "markdown",
   "metadata": {},
   "source": [
    "## Autoencoder"
   ]
  },
  {
   "cell_type": "code",
   "execution_count": 3,
   "metadata": {},
   "outputs": [],
   "source": [
    "class AutoEncoder(nn.Module):\n",
    "    \n",
    "    def __init__(self, input_dim, btl_size, output_dim):\n",
    "        self.input_dim = input_dim\n",
    "        self.output_dim = output_dim\n",
    "        \n",
    "        super().__init__()\n",
    "        \n",
    "        self.enc1 = nn.Linear(input_dim, 400)\n",
    "        self.enc2 = nn.Linear(400, btl_size)\n",
    "        self.dec1 = nn.Linear(btl_size, 400)\n",
    "        self.dec2 = nn.Linear(400, output_dim)\n",
    "        self.act = nn.LeakyReLU()\n",
    "        self.final_act = nn.Sigmoid()\n",
    "        \n",
    "    def forward(self, x):\n",
    "        # |x| = (batch_size, input_dim)\n",
    "        \n",
    "        z = self.act(self.enc1(x))\n",
    "        z = self.act(self.enc2(z))\n",
    "        z = self.act(self.dec1(z))\n",
    "        y = self.final_act(self.dec2(z))\n",
    "        \n",
    "        return y"
   ]
  },
  {
   "cell_type": "code",
   "execution_count": 4,
   "metadata": {},
   "outputs": [
    {
     "name": "stdout",
     "output_type": "stream",
     "text": [
      "AutoEncoder(\n",
      "  (enc1): Linear(in_features=784, out_features=400, bias=True)\n",
      "  (enc2): Linear(in_features=400, out_features=20, bias=True)\n",
      "  (dec1): Linear(in_features=20, out_features=400, bias=True)\n",
      "  (dec2): Linear(in_features=400, out_features=784, bias=True)\n",
      "  (act): LeakyReLU(negative_slope=0.01)\n",
      "  (final_act): Sigmoid()\n",
      ")\n",
      "epoch: 0\tloss: 0.0197\n",
      "epoch: 1\tloss: 0.0162\n",
      "epoch: 2\tloss: 0.0147\n",
      "epoch: 3\tloss: 0.0136\n",
      "epoch: 4\tloss: 0.0119\n",
      "epoch: 5\tloss: 0.0115\n",
      "epoch: 6\tloss: 0.0109\n",
      "epoch: 7\tloss: 0.0107\n",
      "epoch: 8\tloss: 0.0100\n",
      "epoch: 9\tloss: 0.0098\n"
     ]
    }
   ],
   "source": [
    "x, _, test_x, _ = load_mnist()\n",
    "\n",
    "net = AutoEncoder(28**2, 20, 28**2)\n",
    "crit = nn.MSELoss()\n",
    "optim = torch.optim.Adam(net.parameters())\n",
    "\n",
    "print(net)\n",
    "n_epochs = 10\n",
    "batch_size = 128\n",
    "\n",
    "train = DataLoader(TensorDataset(x, x), \n",
    "                   batch_size=batch_size, \n",
    "                   shuffle=True, \n",
    "                   num_workers=0\n",
    "                  )\n",
    "\n",
    "for i in range(n_epochs):\n",
    "    for j, (x_j, y_j) in enumerate(train):\n",
    "        net.zero_grad()\n",
    "\n",
    "        y_hat = net(x_j)\n",
    "        loss = crit(y_hat, y_j)        \n",
    "\n",
    "        loss.backward()\n",
    "        optim.step()\n",
    "        \n",
    "    print('epoch: %d\\tloss: %.4f' % (i, loss))    "
   ]
  },
  {
   "cell_type": "markdown",
   "metadata": {},
   "source": [
    "## Classifier"
   ]
  },
  {
   "cell_type": "code",
   "execution_count": 5,
   "metadata": {},
   "outputs": [],
   "source": [
    "class Classifier(nn.Module):\n",
    "    \n",
    "    def __init__(self, input_dim, output_dim):\n",
    "        self.input_dim = input_dim\n",
    "        self.output_dim = output_dim\n",
    "        \n",
    "        super().__init__()\n",
    "        \n",
    "        self.h1 = nn.Linear(input_dim, 400)\n",
    "        self.h2 = nn.Linear(400, 200)\n",
    "        self.h3 = nn.Linear(200, 100)\n",
    "        self.h4 = nn.Linear(100, 50)\n",
    "        self.h5 = nn.Linear(50, 10)\n",
    "        self.act = nn.LeakyReLU()\n",
    "        self.final_act = nn.LogSoftmax(dim=-1)\n",
    "        \n",
    "    def forward(self, x):\n",
    "        # |x| = (batch_size, input_dim)\n",
    "        \n",
    "        z = self.act(self.h1(x))\n",
    "        z = self.act(self.h2(z))\n",
    "        z = self.act(self.h3(z))\n",
    "        z = self.act(self.h4(z))\n",
    "        y = self.final_act(self.h5(z))\n",
    "        \n",
    "        return y"
   ]
  },
  {
   "cell_type": "code",
   "execution_count": 6,
   "metadata": {},
   "outputs": [
    {
     "name": "stdout",
     "output_type": "stream",
     "text": [
      "Classifier(\n",
      "  (h1): Linear(in_features=784, out_features=400, bias=True)\n",
      "  (h2): Linear(in_features=400, out_features=200, bias=True)\n",
      "  (h3): Linear(in_features=200, out_features=100, bias=True)\n",
      "  (h4): Linear(in_features=100, out_features=50, bias=True)\n",
      "  (h5): Linear(in_features=50, out_features=10, bias=True)\n",
      "  (act): LeakyReLU(negative_slope=0.01)\n",
      "  (final_act): LogSoftmax()\n",
      ")\n",
      "epoch: 0\tloss: 0.1676\taccuracy: 0.9479\n",
      "epoch: 1\tloss: 0.2522\taccuracy: 0.9583\n",
      "epoch: 2\tloss: 0.0252\taccuracy: 1.0000\n",
      "epoch: 3\tloss: 0.1499\taccuracy: 0.9479\n",
      "epoch: 4\tloss: 0.0507\taccuracy: 0.9896\n",
      "epoch: 5\tloss: 0.0202\taccuracy: 0.9896\n",
      "epoch: 6\tloss: 0.0293\taccuracy: 0.9792\n",
      "epoch: 7\tloss: 0.0604\taccuracy: 0.9792\n",
      "epoch: 8\tloss: 0.0213\taccuracy: 0.9896\n",
      "epoch: 9\tloss: 0.0419\taccuracy: 0.9896\n"
     ]
    }
   ],
   "source": [
    "x, y, test_x, test_y = load_mnist()\n",
    "\n",
    "net = Classifier(28**2, 10)\n",
    "crit = nn.NLLLoss()\n",
    "optim = torch.optim.Adam(net.parameters())\n",
    "\n",
    "print(net)\n",
    "n_epochs = 10\n",
    "batch_size = 128\n",
    "\n",
    "train = DataLoader(TensorDataset(x, y), \n",
    "                   batch_size=batch_size, \n",
    "                   shuffle=True, \n",
    "                   num_workers=0\n",
    "                  )\n",
    "\n",
    "for i in range(n_epochs):\n",
    "    for j, (x_j, y_j) in enumerate(train):\n",
    "        net.zero_grad()\n",
    "\n",
    "        y_hat = net(x_j)\n",
    "        loss = crit(y_hat, y_j)\n",
    "\n",
    "        max_idx = y_hat.topk(1)[1].squeeze()\n",
    "        correct_cnt = float((max_idx == y_j).sum())\n",
    "\n",
    "        loss.backward()\n",
    "        optim.step()\n",
    "        \n",
    "    print('epoch: %d\\tloss: %.4f\\taccuracy: %.4f' % (i, loss, correct_cnt / max_idx.size(0)))"
   ]
  },
  {
   "cell_type": "code",
   "execution_count": null,
   "metadata": {},
   "outputs": [],
   "source": []
  }
 ],
 "metadata": {
  "kernelspec": {
   "display_name": "Python 3",
   "language": "python",
   "name": "python3"
  },
  "language_info": {
   "codemirror_mode": {
    "name": "ipython",
    "version": 3
   },
   "file_extension": ".py",
   "mimetype": "text/x-python",
   "name": "python",
   "nbconvert_exporter": "python",
   "pygments_lexer": "ipython3",
   "version": "3.6.5"
  }
 },
 "nbformat": 4,
 "nbformat_minor": 2
}
