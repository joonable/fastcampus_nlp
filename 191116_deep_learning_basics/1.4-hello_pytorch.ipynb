{
 "cells": [
  {
   "cell_type": "markdown",
   "metadata": {},
   "source": [
    "# Deep Learning Basics"
   ]
  },
  {
   "cell_type": "markdown",
   "metadata": {},
   "source": [
    "## Logistic Regression"
   ]
  },
  {
   "cell_type": "code",
   "execution_count": 1,
   "metadata": {},
   "outputs": [],
   "source": [
    "import torch\n",
    "import torch.nn as nn"
   ]
  },
  {
   "cell_type": "code",
   "execution_count": 2,
   "metadata": {},
   "outputs": [
    {
     "name": "stdout",
     "output_type": "stream",
     "text": [
      "torch.Size([21, 4])\n",
      "torch.Size([21, 2]) torch.Size([21, 2])\n"
     ]
    }
   ],
   "source": [
    "d = torch.FloatTensor([[175, 68, 1, 0],\n",
    "                       [162, 52, 0, 0],\n",
    "                       [183, 102, 1, 1],\n",
    "                       [179, 75, 1, 0],\n",
    "                       [169, 61, 1, 0],\n",
    "                       [167, 82, 1, 1],\n",
    "                       [168, 54, 0, 0],\n",
    "                       [174, 70, 1, 0],\n",
    "                       [178, 101, 1, 1],\n",
    "                       [158, 45, 0, 0],\n",
    "                       [162, 49, 0, 0],\n",
    "                       [152, 65, 0, 1],\n",
    "                       [149, 40, 0, 0],\n",
    "                       [172, 76, 1, 0],\n",
    "                       [176, 85, 1, 1],\n",
    "                       [180, 83, 1, 0],\n",
    "                       [164, 60, 0, 1],\n",
    "                       [163, 51, 0, 0],\n",
    "                       [180, 95, 1, 1],\n",
    "                       [173, 82, 1, 1],\n",
    "                       [162, 84, 0, 1]])\n",
    "print(d.size())\n",
    "\n",
    "x = d[:, :2]\n",
    "y = d[:, 2:]\n",
    "\n",
    "print(x.size(), y.size())"
   ]
  },
  {
   "cell_type": "code",
   "execution_count": 3,
   "metadata": {},
   "outputs": [],
   "source": [
    "class MyLinear(nn.Module):\n",
    "    \n",
    "    def __init__(self, input_dim, output_dim):\n",
    "        self.input_dim = input_dim\n",
    "        self.output_dim = output_dim\n",
    "        \n",
    "        super().__init__()\n",
    "        \n",
    "        self.linear = nn.Linear(input_dim, output_dim)\n",
    "        self.act = nn.Sigmoid()\n",
    "        \n",
    "    def forward(self, x):\n",
    "        # |x| = (batch_size, input_dim)\n",
    "        \n",
    "        y = self.act(self.linear(x))\n",
    "        # |y| = (batch_size, output_dim)\n",
    "        \n",
    "        return y"
   ]
  },
  {
   "cell_type": "code",
   "execution_count": 4,
   "metadata": {},
   "outputs": [
    {
     "name": "stdout",
     "output_type": "stream",
     "text": [
      "MyLinear(\n",
      "  (linear): Linear(in_features=2, out_features=2, bias=True)\n",
      "  (act): Sigmoid()\n",
      ")\n"
     ]
    }
   ],
   "source": [
    "linear = MyLinear(2, 2)\n",
    "crit = nn.BCELoss()\n",
    "optim = torch.optim.SGD(linear.parameters(), lr=1e-4)\n",
    "\n",
    "print(linear)"
   ]
  },
  {
   "cell_type": "code",
   "execution_count": 5,
   "metadata": {},
   "outputs": [
    {
     "name": "stdout",
     "output_type": "stream",
     "text": [
      "epoch: 0\tloss: 6.2351\n",
      "epoch: 100\tloss: 0.7765\n",
      "epoch: 200\tloss: 0.6501\n",
      "epoch: 300\tloss: 0.5629\n",
      "epoch: 400\tloss: 0.5065\n",
      "epoch: 500\tloss: 0.4707\n",
      "epoch: 600\tloss: 0.4475\n",
      "epoch: 700\tloss: 0.4319\n",
      "epoch: 800\tloss: 0.4210\n",
      "epoch: 900\tloss: 0.4132\n"
     ]
    }
   ],
   "source": [
    "n_epochs = 1000\n",
    "for i in range(n_epochs):\n",
    "    linear.zero_grad()\n",
    "    \n",
    "    y_hat = linear(x)\n",
    "    loss = crit(y_hat, y)\n",
    "    if i % 100 == 0:\n",
    "        print('epoch: %d\\tloss: %.4f' % (i, loss))    \n",
    "    \n",
    "    loss.backward()\n",
    "    optim.step()"
   ]
  },
  {
   "cell_type": "code",
   "execution_count": 6,
   "metadata": {},
   "outputs": [
    {
     "name": "stdout",
     "output_type": "stream",
     "text": [
      "height: 179 weight: 70 --> is_male: 0.5472 obesity: 0.0880\n"
     ]
    }
   ],
   "source": [
    "test_x = torch.FloatTensor([[179,  70]])\n",
    "y_hat = linear(test_x)\n",
    "\n",
    "print('height: %d weight: %d --> is_male: %.4f obesity: %.4f' % (*test_x[0], *y_hat[0]))"
   ]
  },
  {
   "cell_type": "markdown",
   "metadata": {},
   "source": [
    "## Go Deep"
   ]
  },
  {
   "cell_type": "code",
   "execution_count": 7,
   "metadata": {},
   "outputs": [],
   "source": [
    "class MyNet(nn.Module):\n",
    "    \n",
    "    def __init__(self, input_dim, output_dim):\n",
    "        self.input_dim = input_dim\n",
    "        self.output_dim = output_dim\n",
    "        \n",
    "        super().__init__()\n",
    "        \n",
    "        self.linear1 = nn.Linear(input_dim, 2)\n",
    "        self.linear2 = nn.Linear(2, 2)\n",
    "        self.linear3 = nn.Linear(2, output_dim)\n",
    "        self.act = nn.ReLU()\n",
    "        self.final_act = nn.Sigmoid()\n",
    "        \n",
    "    def forward(self, x):\n",
    "        # |x| = (batch_size, input_dim)\n",
    "        \n",
    "        y = self.act(self.linear1(x))\n",
    "        y = self.act(self.linear2(y))\n",
    "        y = self.final_act(self.linear3(y))\n",
    "        \n",
    "        return y"
   ]
  },
  {
   "cell_type": "code",
   "execution_count": 8,
   "metadata": {},
   "outputs": [
    {
     "name": "stdout",
     "output_type": "stream",
     "text": [
      "MyNet(\n",
      "  (linear1): Linear(in_features=2, out_features=2, bias=True)\n",
      "  (linear2): Linear(in_features=2, out_features=2, bias=True)\n",
      "  (linear3): Linear(in_features=2, out_features=2, bias=True)\n",
      "  (act): ReLU()\n",
      "  (final_act): Sigmoid()\n",
      ")\n",
      "epoch: 0\tloss: 0.7214\n",
      "epoch: 100\tloss: 0.7212\n",
      "epoch: 200\tloss: 0.7209\n",
      "epoch: 300\tloss: 0.7207\n",
      "epoch: 400\tloss: 0.7205\n",
      "epoch: 500\tloss: 0.7203\n",
      "epoch: 600\tloss: 0.7201\n",
      "epoch: 700\tloss: 0.7199\n",
      "epoch: 800\tloss: 0.7196\n",
      "epoch: 900\tloss: 0.7194\n",
      "height: 179 weight: 70 --> is_male: 0.5395 obesity: 0.6146\n"
     ]
    }
   ],
   "source": [
    "net = MyNet(2, 2)\n",
    "crit = nn.BCELoss()\n",
    "optim = torch.optim.SGD(net.parameters(), lr=1e-4)\n",
    "\n",
    "print(net)\n",
    "\n",
    "n_epochs = 1000\n",
    "for i in range(n_epochs):\n",
    "    net.zero_grad()\n",
    "    \n",
    "    y_hat = net(x)\n",
    "    loss = crit(y_hat, y)\n",
    "    if i % 100 == 0:\n",
    "        print('epoch: %d\\tloss: %.4f' % (i, loss))    \n",
    "    \n",
    "    loss.backward()\n",
    "    optim.step()\n",
    "    \n",
    "test_x = torch.FloatTensor([[179,  70]])\n",
    "y_hat = net(test_x)\n",
    "\n",
    "print('height: %d weight: %d --> is_male: %.4f obesity: %.4f' % (*test_x[0], *y_hat[0]))"
   ]
  }
 ],
 "metadata": {
  "kernelspec": {
   "display_name": "Python 3",
   "language": "python",
   "name": "python3"
  },
  "language_info": {
   "codemirror_mode": {
    "name": "ipython",
    "version": 3
   },
   "file_extension": ".py",
   "mimetype": "text/x-python",
   "name": "python",
   "nbconvert_exporter": "python",
   "pygments_lexer": "ipython3",
   "version": "3.6.5"
  }
 },
 "nbformat": 4,
 "nbformat_minor": 2
}
