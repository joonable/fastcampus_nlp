{
 "cells": [
  {
   "cell_type": "markdown",
   "metadata": {},
   "source": [
    "# WordNet"
   ]
  },
  {
   "cell_type": "code",
   "execution_count": 1,
   "metadata": {
    "pycharm": {
     "is_executing": false
    }
   },
   "outputs": [
    {
     "name": "stdout",
     "text": [
      "Collecting nltk==3.2.5\r\n",
      "\u001b[?25l  Downloading https://files.pythonhosted.org/packages/cc/87/76e691bbf1759ad6af5831649aae6a8d2fa184a1bcc71018ca6300399e5f/nltk-3.2.5.tar.gz (1.2MB)\r\n",
      "\r\u001b[K     |▎                               | 10kB 205kB/s eta 0:00:06\r\u001b[K     |▌                               | 20kB 408kB/s eta 0:00:03\r\u001b[K     |▉                               | 30kB 604kB/s eta 0:00:02",
      "\r\u001b[K     |█                               | 40kB 403kB/s eta 0:00:03\r\u001b[K     |█▍                              | 51kB 498kB/s eta 0:00:03\r\u001b[K     |█▋                              | 61kB 597kB/s eta 0:00:02\r\u001b[K     |██                              | 71kB 691kB/s eta 0:00:02",
      "\r\u001b[K     |██▏                             | 81kB 529kB/s eta 0:00:03\r\u001b[K     |██▌                             | 92kB 595kB/s eta 0:00:02\r\u001b[K     |██▊                             | 102kB 657kB/s eta 0:00:02\r\u001b[K     |███                             | 112kB 657kB/s eta 0:00:02\r\u001b[K     |███▎                            | 122kB 657kB/s eta 0:00:02\r\u001b[K     |███▋                            | 133kB 657kB/s eta 0:00:02\r\u001b[K     |███▉                            | 143kB 657kB/s eta 0:00:02\r\u001b[K     |████▏                           | 153kB 657kB/s eta 0:00:02\r\u001b[K     |████▍                           | 163kB 657kB/s eta 0:00:02\r\u001b[K     |████▊                           | 174kB 657kB/s eta 0:00:02\r\u001b[K     |█████                           | 184kB 657kB/s eta 0:00:02\r\u001b[K     |█████▎                          | 194kB 657kB/s eta 0:00:02",
      "\r\u001b[K     |█████▌                          | 204kB 657kB/s eta 0:00:02\r\u001b[K     |█████▉                          | 215kB 657kB/s eta 0:00:02\r\u001b[K     |██████                          | 225kB 657kB/s eta 0:00:02\r\u001b[K     |██████▍                         | 235kB 657kB/s eta 0:00:02",
      "\r\u001b[K     |██████▋                         | 245kB 657kB/s eta 0:00:02\r\u001b[K     |███████                         | 256kB 657kB/s eta 0:00:02\r\u001b[K     |███████▏                        | 266kB 657kB/s eta 0:00:02\r\u001b[K     |███████▍                        | 276kB 657kB/s eta 0:00:02\r\u001b[K     |███████▊                        | 286kB 657kB/s eta 0:00:02\r\u001b[K     |████████                        | 296kB 657kB/s eta 0:00:02\r\u001b[K     |████████▎                       | 307kB 657kB/s eta 0:00:02\r\u001b[K     |████████▌                       | 317kB 657kB/s eta 0:00:02\r\u001b[K     |████████▉                       | 327kB 657kB/s eta 0:00:02\r\u001b[K     |█████████                       | 337kB 657kB/s eta 0:00:02\r\u001b[K     |█████████▍                      | 348kB 657kB/s eta 0:00:02\r\u001b[K     |█████████▋                      | 358kB 657kB/s eta 0:00:02\r\u001b[K     |██████████                      | 368kB 657kB/s eta 0:00:02\r\u001b[K     |██████████▏                     | 378kB 657kB/s eta 0:00:02\r\u001b[K     |██████████▌                     | 389kB 657kB/s eta 0:00:02\r\u001b[K     |██████████▊                     | 399kB 657kB/s eta 0:00:02\r\u001b[K     |███████████                     | 409kB 657kB/s eta 0:00:02\r\u001b[K     |███████████▎                    | 419kB 657kB/s eta 0:00:02",
      "\r\u001b[K     |███████████▋                    | 430kB 657kB/s eta 0:00:02\r\u001b[K     |███████████▉                    | 440kB 657kB/s eta 0:00:02\r\u001b[K     |████████████▏                   | 450kB 657kB/s eta 0:00:02\r\u001b[K     |████████████▍                   | 460kB 657kB/s eta 0:00:02\r\u001b[K     |████████████▊                   | 471kB 657kB/s eta 0:00:02\r\u001b[K     |█████████████                   | 481kB 657kB/s eta 0:00:02\r\u001b[K     |█████████████▎                  | 491kB 657kB/s eta 0:00:02\r\u001b[K     |█████████████▌                  | 501kB 657kB/s eta 0:00:02\r\u001b[K     |█████████████▉                  | 512kB 657kB/s eta 0:00:02\r\u001b[K     |██████████████                  | 522kB 657kB/s eta 0:00:02\r\u001b[K     |██████████████▎                 | 532kB 657kB/s eta 0:00:01\r\u001b[K     |██████████████▋                 | 542kB 657kB/s eta 0:00:01\r\u001b[K     |██████████████▉                 | 552kB 657kB/s eta 0:00:01\r\u001b[K     |███████████████▏                | 563kB 657kB/s eta 0:00:01\r\u001b[K     |███████████████▍                | 573kB 657kB/s eta 0:00:01\r\u001b[K     |███████████████▊                | 583kB 657kB/s eta 0:00:01\r\u001b[K     |████████████████                | 593kB 657kB/s eta 0:00:01\r\u001b[K     |████████████████▎               | 604kB 657kB/s eta 0:00:01",
      "\r\u001b[K     |████████████████▌               | 614kB 657kB/s eta 0:00:01\r\u001b[K     |████████████████▉               | 624kB 657kB/s eta 0:00:01\r\u001b[K     |█████████████████               | 634kB 657kB/s eta 0:00:01\r\u001b[K     |█████████████████▍              | 645kB 657kB/s eta 0:00:01\r\u001b[K     |█████████████████▋              | 655kB 657kB/s eta 0:00:01\r\u001b[K     |██████████████████              | 665kB 657kB/s eta 0:00:01\r\u001b[K     |██████████████████▏             | 675kB 657kB/s eta 0:00:01\r\u001b[K     |██████████████████▌             | 686kB 657kB/s eta 0:00:01\r\u001b[K     |██████████████████▊             | 696kB 657kB/s eta 0:00:01\r\u001b[K     |███████████████████             | 706kB 657kB/s eta 0:00:01\r\u001b[K     |███████████████████▎            | 716kB 657kB/s eta 0:00:01\r\u001b[K     |███████████████████▋            | 727kB 657kB/s eta 0:00:01\r\u001b[K     |███████████████████▉            | 737kB 657kB/s eta 0:00:01\r\u001b[K     |████████████████████▏           | 747kB 657kB/s eta 0:00:01\r\u001b[K     |████████████████████▍           | 757kB 657kB/s eta 0:00:01\r\u001b[K     |████████████████████▊           | 768kB 657kB/s eta 0:00:01\r\u001b[K     |█████████████████████           | 778kB 657kB/s eta 0:00:01\r\u001b[K     |█████████████████████▎          | 788kB 657kB/s eta 0:00:01\r\u001b[K     |█████████████████████▌          | 798kB 657kB/s eta 0:00:01",
      "\r\u001b[K     |█████████████████████▊          | 808kB 657kB/s eta 0:00:01\r\u001b[K     |██████████████████████          | 819kB 657kB/s eta 0:00:01\r\u001b[K     |██████████████████████▎         | 829kB 657kB/s eta 0:00:01\r\u001b[K     |██████████████████████▋         | 839kB 657kB/s eta 0:00:01\r\u001b[K     |██████████████████████▉         | 849kB 657kB/s eta 0:00:01\r\u001b[K     |███████████████████████▏        | 860kB 657kB/s eta 0:00:01\r\u001b[K     |███████████████████████▍        | 870kB 657kB/s eta 0:00:01\r\u001b[K     |███████████████████████▊        | 880kB 657kB/s eta 0:00:01\r\u001b[K     |████████████████████████        | 890kB 657kB/s eta 0:00:01\r\u001b[K     |████████████████████████▎       | 901kB 657kB/s eta 0:00:01\r\u001b[K     |████████████████████████▌       | 911kB 657kB/s eta 0:00:01\r\u001b[K     |████████████████████████▉       | 921kB 657kB/s eta 0:00:01\r\u001b[K     |█████████████████████████       | 931kB 657kB/s eta 0:00:01\r\u001b[K     |█████████████████████████▍      | 942kB 657kB/s eta 0:00:01\r\u001b[K     |█████████████████████████▋      | 952kB 657kB/s eta 0:00:01\r\u001b[K     |██████████████████████████      | 962kB 657kB/s eta 0:00:01\r\u001b[K     |██████████████████████████▏     | 972kB 657kB/s eta 0:00:01\r\u001b[K     |██████████████████████████▌     | 983kB 657kB/s eta 0:00:01\r\u001b[K     |██████████████████████████▊     | 993kB 657kB/s eta 0:00:01\r\u001b[K     |███████████████████████████     | 1.0MB 657kB/s eta 0:00:01\r\u001b[K     |███████████████████████████▎    | 1.0MB 657kB/s eta 0:00:01\r\u001b[K     |███████████████████████████▋    | 1.0MB 657kB/s eta 0:00:01\r\u001b[K     |███████████████████████████▉    | 1.0MB 657kB/s eta 0:00:01\r\u001b[K     |████████████████████████████▏   | 1.0MB 657kB/s eta 0:00:01\r\u001b[K     |████████████████████████████▍   | 1.1MB 657kB/s eta 0:00:01\r\u001b[K     |████████████████████████████▋   | 1.1MB 657kB/s eta 0:00:01\r\u001b[K     |█████████████████████████████   | 1.1MB 657kB/s eta 0:00:01\r\u001b[K     |█████████████████████████████▏  | 1.1MB 657kB/s eta 0:00:01\r\u001b[K     |█████████████████████████████▌  | 1.1MB 657kB/s eta 0:00:01\r\u001b[K     |█████████████████████████████▊  | 1.1MB 657kB/s eta 0:00:01\r\u001b[K     |██████████████████████████████  | 1.1MB 657kB/s eta 0:00:01\r\u001b[K     |██████████████████████████████▎ | 1.1MB 657kB/s eta 0:00:01\r\u001b[K     |██████████████████████████████▋ | 1.1MB 657kB/s eta 0:00:01\r\u001b[K     |██████████████████████████████▉ | 1.1MB 657kB/s eta 0:00:01\r\u001b[K     |███████████████████████████████▏| 1.2MB 657kB/s eta 0:00:01\r\u001b[K     |███████████████████████████████▍| 1.2MB 657kB/s eta 0:00:01\r\u001b[K     |███████████████████████████████▊| 1.2MB 657kB/s eta 0:00:01\r\u001b[K     |████████████████████████████████| 1.2MB 657kB/s eta 0:00:01",
      "\r\u001b[K     |████████████████████████████████| 1.2MB 657kB/s \r\n",
      "\u001b[?25hRequirement already satisfied: six in /Users/will/anaconda3/lib/python3.7/site-packages (from nltk==3.2.5) (1.12.0)\r\nBuilding wheels for collected packages: nltk\r\n",
      "  Building wheel for nltk (setup.py) ... \u001b[?25l-",
      "\b \b\\",
      "\b \b|",
      "\b \b/",
      "\b \b-",
      "\b \b\\",
      "\b \b|",
      "\b \bdone\r\n\u001b[?25h  Stored in directory: /Users/will/Library/Caches/pip/wheels/da/8c/38/a8a36581975f8d03275c49960019f955e4d19fd14ae7e42d3d\r\n",
      "Successfully built nltk\r\n",
      "Installing collected packages: nltk\r\n  Found existing installation: nltk 3.4.4\r\n",
      "    Uninstalling nltk-3.4.4:\r\n      Successfully uninstalled nltk-3.4.4\r\n",
      "Successfully installed nltk-3.2.5\r\n"
     ],
     "output_type": "stream"
    }
   ],
   "source": [
    "!pip install nltk==3.2.5"
   ]
  },
  {
   "cell_type": "code",
   "execution_count": 2,
   "metadata": {
    "pycharm": {
     "is_executing": false
    }
   },
   "outputs": [
    {
     "name": "stdout",
     "text": [
      "[nltk_data] Downloading package wordnet to /Users/will/nltk_data...\n",
      "[nltk_data]   Unzipping corpora/wordnet.zip.\n"
     ],
     "output_type": "stream"
    },
    {
     "data": {
      "text/plain": "True"
     },
     "metadata": {},
     "output_type": "execute_result",
     "execution_count": 2
    }
   ],
   "source": [
    "import nltk\n",
    "nltk.download('wordnet')"
   ]
  },
  {
   "cell_type": "code",
   "execution_count": 3,
   "metadata": {
    "pycharm": {
     "is_executing": false
    }
   },
   "outputs": [
    {
     "data": {
      "text/plain": "[Synset('people.n.01'),\n Synset('citizenry.n.01'),\n Synset('people.n.03'),\n Synset('multitude.n.03'),\n Synset('people.v.01'),\n Synset('people.v.02')]"
     },
     "metadata": {},
     "output_type": "execute_result",
     "execution_count": 3
    }
   ],
   "source": [
    "from nltk.corpus import wordnet as wn\n",
    "wn.synsets('people')"
   ]
  },
  {
   "cell_type": "code",
   "execution_count": 4,
   "metadata": {
    "pycharm": {
     "is_executing": false
    }
   },
   "outputs": [
    {
     "data": {
      "text/plain": "[Synset('group.n.01')]"
     },
     "metadata": {},
     "output_type": "execute_result",
     "execution_count": 4
    }
   ],
   "source": [
    "wn.synsets('people')[0].hypernyms()"
   ]
  },
  {
   "cell_type": "code",
   "execution_count": 5,
   "metadata": {
    "pycharm": {
     "is_executing": false
    }
   },
   "outputs": [
    {
     "name": "stdout",
     "text": [
      "Synset('policeman.n.01')\nSynset('lawman.n.01')\nSynset('defender.n.01')\nSynset('preserver.n.03')\nSynset('person.n.01')\nSynset('causal_agent.n.01')\nSynset('physical_entity.n.01')\nSynset('entity.n.01')\n"
     ],
     "output_type": "stream"
    }
   ],
   "source": [
    "def hypernyms(word):\n",
    "    current_node = wn.synsets(word)[0]\n",
    "    yield current_node\n",
    "    \n",
    "    while True:\n",
    "        try:\n",
    "            current_node = current_node.hypernyms()[0]\n",
    "            yield current_node\n",
    "        except IndexError:\n",
    "            break\n",
    "\n",
    "for h in hypernyms('policeman'):\n",
    "    print(h)"
   ]
  },
  {
   "cell_type": "code",
   "execution_count": 6,
   "metadata": {
    "pycharm": {
     "is_executing": false
    }
   },
   "outputs": [
    {
     "data": {
      "text/plain": "[Synset('fireman.n.04'),\n Synset('defender.n.01'),\n Synset('preserver.n.03'),\n Synset('person.n.01'),\n Synset('causal_agent.n.01'),\n Synset('physical_entity.n.01'),\n Synset('entity.n.01')]"
     },
     "metadata": {},
     "output_type": "execute_result",
     "execution_count": 6
    }
   ],
   "source": [
    "[h for h in hypernyms('firefighter')]"
   ]
  },
  {
   "cell_type": "code",
   "execution_count": 7,
   "metadata": {
    "pycharm": {
     "is_executing": false
    }
   },
   "outputs": [
    {
     "data": {
      "text/plain": "[Synset('sheriff.n.01'),\n Synset('lawman.n.01'),\n Synset('defender.n.01'),\n Synset('preserver.n.03'),\n Synset('person.n.01'),\n Synset('causal_agent.n.01'),\n Synset('physical_entity.n.01'),\n Synset('entity.n.01')]"
     },
     "metadata": {},
     "output_type": "execute_result",
     "execution_count": 7
    }
   ],
   "source": [
    "[h for h in hypernyms('sheriff')]"
   ]
  },
  {
   "cell_type": "code",
   "execution_count": 8,
   "metadata": {
    "pycharm": {
     "is_executing": false
    }
   },
   "outputs": [
    {
     "data": {
      "text/plain": "[Synset('mailman.n.01'),\n Synset('deliveryman.n.01'),\n Synset('employee.n.01'),\n Synset('worker.n.01'),\n Synset('person.n.01'),\n Synset('causal_agent.n.01'),\n Synset('physical_entity.n.01'),\n Synset('entity.n.01')]"
     },
     "metadata": {},
     "output_type": "execute_result",
     "execution_count": 8
    }
   ],
   "source": [
    "[h for h in hypernyms('mailman')]"
   ]
  },
  {
   "cell_type": "code",
   "execution_count": 9,
   "metadata": {
    "pycharm": {
     "is_executing": false
    }
   },
   "outputs": [
    {
     "data": {
      "text/plain": "6"
     },
     "metadata": {},
     "output_type": "execute_result",
     "execution_count": 9
    }
   ],
   "source": [
    "def distance(word1, word2):\n",
    "    word1_hypernyms = [h for h in hypernyms(word1)]\n",
    "    \n",
    "    for i, word2_hypernym in enumerate(hypernyms(word2)):\n",
    "        try:\n",
    "            return i + word1_hypernyms.index(word2_hypernym)\n",
    "        except ValueError:\n",
    "            continue\n",
    "\n",
    "distance('sheriff', 'student')"
   ]
  },
  {
   "cell_type": "markdown",
   "metadata": {},
   "source": [
    "$$ similarity(w, w^\\prime) = -\\log distance(w, w^\\prime) $$"
   ]
  },
  {
   "cell_type": "code",
   "execution_count": 10,
   "metadata": {
    "pycharm": {
     "is_executing": false
    }
   },
   "outputs": [
    {
     "name": "stdout",
     "text": [
      "-1.791759469228055\n-0.6931471805599453\n"
     ],
     "output_type": "stream"
    }
   ],
   "source": [
    "import numpy as np\n",
    "\n",
    "def similarity(word1, word2):\n",
    "    return -np.log(distance(word1, word2))\n",
    "\n",
    "print(similarity('sheriff', 'student'))\n",
    "print(similarity('sheriff', 'policeman'))"
   ]
  },
  {
   "cell_type": "code",
   "execution_count": null,
   "outputs": [],
   "source": [
    "\n"
   ],
   "metadata": {
    "collapsed": false,
    "pycharm": {
     "name": "#%%\n"
    }
   }
  }
 ],
 "metadata": {
  "kernelspec": {
   "display_name": "Python 3",
   "language": "python",
   "name": "python3"
  },
  "language_info": {
   "codemirror_mode": {
    "name": "ipython",
    "version": 3
   },
   "file_extension": ".py",
   "mimetype": "text/x-python",
   "name": "python",
   "nbconvert_exporter": "python",
   "pygments_lexer": "ipython3",
   "version": "3.6.5"
  },
  "pycharm": {
   "stem_cell": {
    "cell_type": "raw",
    "source": [],
    "metadata": {
     "collapsed": false
    }
   }
  }
 },
 "nbformat": 4,
 "nbformat_minor": 2
}